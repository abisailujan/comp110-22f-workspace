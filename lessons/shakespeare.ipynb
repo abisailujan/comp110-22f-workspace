{
 "cells": [
  {
   "cell_type": "markdown",
   "metadata": {},
   "source": [
    "# Quantifying Shakespeare\n",
    "\n",
    "Downloadding the plain text corpus of Shakespeare's work from: <https://bit.ly/shakespeare-txt> \n",
    "\n",
    "## Plan of Action\n",
    "\n",
    "1. Read every line of text into a line of strings\n",
    "2. Count the frequencies of each letter\n",
    "3. Visualize the frequencies"
   ]
  },
  {
   "cell_type": "code",
   "execution_count": 9,
   "metadata": {},
   "outputs": [
    {
     "name": "stdout",
     "output_type": "stream",
     "text": [
      "124455\n"
     ]
    }
   ],
   "source": [
    "# Read lines from the file\n",
    "\n",
    "from io import TextIOWrapper\n",
    "\n",
    "def read_lines(filename: str) -> list[str]:\n",
    "    \"\"\"Reading every line from filename into a list of strs.\"\"\"\n",
    "    lines: list[str] = []\n",
    "    # Use TextIOWrapper to open data file, the \"r\" meaning read, and save to one variable\n",
    "    file_handle: TextIOWrapper = open(filename, \"r\")\n",
    "    # Loop through each line of new variable's data and add each to return list (lines)\n",
    "    for line in file_handle:\n",
    "        # reassign the data to be an all lower case version (just now introduced)\n",
    "        line = line.lower()\n",
    "        # Strip the spaces around the edges of a string\n",
    "        line = line.strip()\n",
    "        lines.append(line)\n",
    "    return lines\n",
    "\n",
    "shakespeare_lines: list[str] = read_lines(\"./shakespeare.txt\")\n",
    "print(len(shakespeare_lines))"
   ]
  },
  {
   "cell_type": "code",
   "execution_count": null,
   "metadata": {},
   "outputs": [],
   "source": [
    "# Tally up the characters of the works\n",
    "\n",
    "# Define a function names tally\n",
    "\n",
    "# Tally up the character of the works\n",
    "\n",
    "# Give the funciton 2 params\n",
    "# 1. a dictionary reference of key type str, value type int\n",
    "# 2. a str key\n",
    "# If the key is in the dictionary, increase its count by 1,\n",
    "# Otherwise: set its value to 1.\n",
    "# Return nothing because you've mutated the dictionary\n"
   ]
  }
 ],
 "metadata": {
  "kernelspec": {
   "display_name": "Python 3.10.6 64-bit",
   "language": "python",
   "name": "python3"
  },
  "language_info": {
   "codemirror_mode": {
    "name": "ipython",
    "version": 3
   },
   "file_extension": ".py",
   "mimetype": "text/x-python",
   "name": "python",
   "nbconvert_exporter": "python",
   "pygments_lexer": "ipython3",
   "version": "3.10.6"
  },
  "orig_nbformat": 4,
  "vscode": {
   "interpreter": {
    "hash": "aee8b7b246df8f9039afb4144a1f6fd8d2ca17a180786b69acc140d282b71a49"
   }
  }
 },
 "nbformat": 4,
 "nbformat_minor": 2
}
